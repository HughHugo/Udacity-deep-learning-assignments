{
 "cells": [
  {
   "cell_type": "markdown",
   "metadata": {},
   "source": [
    "# Deep Learning"
   ]
  },
  {
   "cell_type": "markdown",
   "metadata": {},
   "source": [
    "## Assignment 3"
   ]
  },
  {
   "cell_type": "code",
   "execution_count": 1,
   "metadata": {
    "collapsed": true
   },
   "outputs": [],
   "source": [
    "from __future__ import print_function\n",
    "import numpy as np\n",
    "import tensorflow as tf\n",
    "import matplotlib.pyplot as plt\n",
    "from six.moves import cPickle as pickle\n",
    "from six.moves import range"
   ]
  },
  {
   "cell_type": "code",
   "execution_count": 2,
   "metadata": {},
   "outputs": [
    {
     "name": "stdout",
     "output_type": "stream",
     "text": [
      "Training set (200000, 28, 28) (200000,)\n",
      "Validation set (10000, 28, 28) (10000,)\n",
      "Test set (10000, 28, 28) (10000,)\n"
     ]
    }
   ],
   "source": [
    "pickle_file = 'notMNIST.pickle'\n",
    "with open(pickle_file, 'rb') as f:\n",
    "    save = pickle.load(f)\n",
    "    train_dataset = save['train_dataset']\n",
    "    train_labels = save['train_labels']\n",
    "    valid_dataset = save['valid_dataset']\n",
    "    valid_labels = save['valid_labels']\n",
    "    test_dataset = save['test_dataset']\n",
    "    test_labels = save['test_labels']\n",
    "    del save\n",
    "    print('Training set', train_dataset.shape, train_labels.shape)\n",
    "    print('Validation set', valid_dataset.shape, valid_labels.shape)\n",
    "    print('Test set', test_dataset.shape, test_labels.shape)"
   ]
  },
  {
   "cell_type": "code",
   "execution_count": 3,
   "metadata": {},
   "outputs": [
    {
     "name": "stdout",
     "output_type": "stream",
     "text": [
      "Training set (200000, 784) (200000, 10)\n",
      "Validation set (10000, 784) (10000, 10)\n",
      "Test set (10000, 784) (10000, 10)\n"
     ]
    }
   ],
   "source": [
    "image_size = 28\n",
    "num_labels = 10\n",
    "def reformat(dataset, labels):\n",
    "    dataset = dataset.reshape((-1, image_size * image_size)).astype(np.float32)\n",
    "    labels = (np.arange(num_labels) == labels[:,None]).astype(np.float32)\n",
    "    return dataset, labels\n",
    "train_dataset, train_labels = reformat(train_dataset, train_labels)\n",
    "valid_dataset, valid_labels = reformat(valid_dataset, valid_labels)\n",
    "test_dataset, test_labels = reformat(test_dataset, test_labels)\n",
    "print('Training set', train_dataset.shape, train_labels.shape)\n",
    "print('Validation set', valid_dataset.shape, valid_labels.shape)\n",
    "print('Test set', test_dataset.shape, test_labels.shape)"
   ]
  },
  {
   "cell_type": "code",
   "execution_count": 4,
   "metadata": {
    "collapsed": true
   },
   "outputs": [],
   "source": [
    "def accuracy(predictions, labels):\n",
    "    return (100.0 * np.sum(np.argmax(predictions, 1) == np.argmax(labels, 1)) / predictions.shape[0])"
   ]
  },
  {
   "cell_type": "markdown",
   "metadata": {},
   "source": [
    "## Problem 1"
   ]
  },
  {
   "cell_type": "markdown",
   "metadata": {},
   "source": [
    "### L2 regulization for logistic regression"
   ]
  },
  {
   "cell_type": "code",
   "execution_count": 5,
   "metadata": {
    "collapsed": true
   },
   "outputs": [],
   "source": [
    "batch_size = 128\n",
    "#beta = 0.001\n",
    "\n",
    "graph = tf.Graph()\n",
    "with graph.as_default():\n",
    "    #Input data.\n",
    "    tf_train_dataset = tf.placeholder(tf.float32, shape = (batch_size, image_size * image_size))\n",
    "    tf_train_labels = tf.placeholder(tf.float32, shape = (batch_size, num_labels))\n",
    "    tf_valid_dataset = tf.constant(valid_dataset)\n",
    "    tf_test_dataset = tf.constant(test_dataset)\n",
    "    beta = tf.placeholder(tf.float32)\n",
    "    \n",
    "    #Variables.\n",
    "    weights = tf.Variable(tf.truncated_normal([image_size * image_size, num_labels]))\n",
    "    biases = tf.Variable(tf.zeros([num_labels]))\n",
    "    \n",
    "    #Training computation\n",
    "    logits = tf.matmul(tf_train_dataset, weights) + biases\n",
    "    loss = tf.reduce_mean(tf.nn.softmax_cross_entropy_with_logits(labels = tf_train_labels, logits = logits)) + beta * tf.nn.l2_loss(weights)\n",
    "    \n",
    "    #Optimizer.\n",
    "    optimizer = tf.train.GradientDescentOptimizer(0.5).minimize(loss)\n",
    "    \n",
    "    #Predictions for training, validation, test data.\n",
    "    train_prediction = tf.nn.softmax(logits)\n",
    "    valid_prediction = tf.nn.softmax(tf.matmul(tf_valid_dataset, weights) + biases)\n",
    "    test_prediction = tf.nn.softmax(tf.matmul(tf_test_dataset, weights) + biases)"
   ]
  },
  {
   "cell_type": "code",
   "execution_count": 6,
   "metadata": {
    "scrolled": true
   },
   "outputs": [
    {
     "name": "stdout",
     "output_type": "stream",
     "text": [
      "Initialized\n",
      "Minibatch loss at step 0: 15.955331\n",
      "Minibatch accuracy: 7.8%\n",
      "Validation accuracy: 12.3%\n",
      "Minibatch loss at step 1000: 1.906889\n",
      "Minibatch accuracy: 75.8%\n",
      "Validation accuracy: 77.8%\n",
      "Minibatch loss at step 2000: 1.044413\n",
      "Minibatch accuracy: 79.7%\n",
      "Validation accuracy: 79.4%\n",
      "Minibatch loss at step 3000: 0.721229\n",
      "Minibatch accuracy: 86.7%\n",
      "Validation accuracy: 81.7%\n",
      "Minibatch loss at step 4000: 0.970438\n",
      "Minibatch accuracy: 74.2%\n",
      "Validation accuracy: 80.3%\n",
      "Minibatch loss at step 5000: 0.613207\n",
      "Minibatch accuracy: 82.0%\n",
      "Validation accuracy: 82.2%\n",
      "Minibatch loss at step 6000: 0.747775\n",
      "Minibatch accuracy: 79.7%\n",
      "Validation accuracy: 82.5%\n",
      "Minibatch loss at step 7000: 0.529374\n",
      "Minibatch accuracy: 82.8%\n",
      "Validation accuracy: 81.5%\n",
      "Minibatch loss at step 8000: 0.590559\n",
      "Minibatch accuracy: 82.0%\n",
      "Validation accuracy: 81.9%\n",
      "Test accuracy: 88.5%\n"
     ]
    }
   ],
   "source": [
    "num_steps = 8001\n",
    "beta_regu = 0.0005\n",
    "tf_config = tf.ConfigProto()\n",
    "tf_config.gpu_options.allow_growth = True\n",
    "tf_config.log_device_placement = True\n",
    "\n",
    "with tf.Session(graph = graph, config = tf_config)  as session:\n",
    "    tf.global_variables_initializer().run()\n",
    "    print('Initialized')\n",
    "    for step in range(num_steps):\n",
    "        #Pick an offset within the training data.\n",
    "        offset = (step * batch_size) % (train_labels.shape[0] - batch_size)\n",
    "        #Generate a minibatch\n",
    "        batch_data = train_dataset[offset:(offset + batch_size), :]\n",
    "        batch_labels = train_labels[offset:(offset + batch_size)]\n",
    "        #feed dictionary\n",
    "        feed_dict = {tf_train_dataset: batch_data, tf_train_labels: batch_labels, beta: beta_regu}\n",
    "        _, l, predictions = session.run([optimizer, loss, train_prediction], feed_dict = feed_dict)\n",
    "        if (step % 1000 == 0):\n",
    "            print('Minibatch loss at step %d: %f' % (step, l))\n",
    "            print('Minibatch accuracy: %.1f%%' % accuracy(predictions, batch_labels))\n",
    "            print('Validation accuracy: %.1f%%' % accuracy(valid_prediction.eval(), valid_labels))\n",
    "    print('Test accuracy: %.1f%%' % accuracy(test_prediction.eval(), test_labels))"
   ]
  },
  {
   "cell_type": "markdown",
   "metadata": {},
   "source": [
    "### Tune the beta of regularization"
   ]
  },
  {
   "cell_type": "code",
   "execution_count": 7,
   "metadata": {
    "scrolled": true
   },
   "outputs": [
    {
     "name": "stdout",
     "output_type": "stream",
     "text": [
      "Initialized when beta = 0.000010\n",
      "Initialized when beta = 0.000013\n",
      "Initialized when beta = 0.000016\n",
      "Initialized when beta = 0.000020\n",
      "Initialized when beta = 0.000025\n",
      "Initialized when beta = 0.000032\n",
      "Initialized when beta = 0.000040\n",
      "Initialized when beta = 0.000050\n",
      "Initialized when beta = 0.000063\n",
      "Initialized when beta = 0.000079\n",
      "Initialized when beta = 0.000100\n",
      "Initialized when beta = 0.000126\n",
      "Initialized when beta = 0.000158\n",
      "Initialized when beta = 0.000200\n",
      "Initialized when beta = 0.000251\n",
      "Initialized when beta = 0.000316\n",
      "Initialized when beta = 0.000398\n",
      "Initialized when beta = 0.000501\n",
      "Initialized when beta = 0.000631\n",
      "Initialized when beta = 0.000794\n",
      "Initialized when beta = 0.001000\n",
      "Initialized when beta = 0.001259\n",
      "Initialized when beta = 0.001585\n",
      "Initialized when beta = 0.001995\n",
      "Initialized when beta = 0.002512\n",
      "Initialized when beta = 0.003162\n",
      "Initialized when beta = 0.003981\n",
      "Initialized when beta = 0.005012\n",
      "Initialized when beta = 0.006310\n",
      "Initialized when beta = 0.007943\n"
     ]
    }
   ],
   "source": [
    "num_steps = 8001\n",
    "betas_regu = [pow(10, i) for i in np.arange(-5, -2, 0.1)]\n",
    "accuracy_val = []\n",
    "for beta_regu in betas_regu:\n",
    "    with tf.Session(graph = graph, config = tf_config)  as session:\n",
    "        tf.global_variables_initializer().run()\n",
    "        print('Initialized when beta = %.6f' % beta_regu)\n",
    "        for step in range(num_steps):\n",
    "            #Pick an offset within the training data.\n",
    "            offset = (step * batch_size) % (train_labels.shape[0] - batch_size)\n",
    "            #Generate a minibatch\n",
    "            batch_data = train_dataset[offset:(offset + batch_size), :]\n",
    "            batch_labels = train_labels[offset:(offset + batch_size)]\n",
    "            #feed dictionary\n",
    "            feed_dict = {tf_train_dataset: batch_data, tf_train_labels: batch_labels, beta: beta_regu}\n",
    "            _, l, predictions = session.run([optimizer, loss, train_prediction], feed_dict = feed_dict)\n",
    "        accuracy_val.append(accuracy(test_prediction.eval(), test_labels))\n",
    "        print('Test accuracy: %.1f%%' % accuracy(test_prediction.eval(), test_labels))"
   ]
  },
  {
   "cell_type": "code",
   "execution_count": 8,
   "metadata": {
    "scrolled": true
   },
   "outputs": [
    {
     "data": {
      "image/png": "[encoded data removed]",
      "text/plain": [
       "<matplotlib.figure.Figure at 0x7f494a62a780>"
      ]
     },
     "metadata": {},
     "output_type": "display_data"
    }
   ],
   "source": [
    "plt.semilogx(betas_regu, accuracy_val)\n",
    "plt.grid(True)\n",
    "plt.title('Test accuracy by regularization(logistic)')\n",
    "plt.show()"
   ]
  },
  {
   "cell_type": "markdown",
   "metadata": {},
   "source": [
    "### L2 regulization for neural network"
   ]
  },
  {
   "cell_type": "code",
   "execution_count": 9,
   "metadata": {
    "collapsed": true
   },
   "outputs": [],
   "source": [
    "batch_size = 128\n",
    "num_hidden_nodes = 1024\n",
    "\n",
    "graph = tf.Graph()\n",
    "with graph.as_default():\n",
    "    #Input data.\n",
    "    tf_train_dataset = tf.placeholder(tf.float32, shape = (batch_size, image_size * image_size))\n",
    "    tf_train_labels = tf.placeholder(tf.float32, shape = (batch_size, num_labels))\n",
    "    tf_valid_dataset = tf.constant(valid_dataset)\n",
    "    tf_test_dataset = tf.constant(test_dataset)\n",
    "    beta = tf.placeholder(tf.float32)\n",
    "    \n",
    "    #Variables.\n",
    "    weights_1 = tf.Variable(tf.truncated_normal([image_size * image_size, num_hidden_nodes]))\n",
    "    biases_1 = tf.Variable(tf.zeros([num_hidden_nodes]))\n",
    "    weights_2 = tf.Variable(tf.truncated_normal([num_hidden_nodes, num_labels]))\n",
    "    biases_2 = tf.Variable(tf.zeros([num_labels]))\n",
    "    \n",
    "    #Training computation.\n",
    "    layer_1 = tf.nn.relu(tf.matmul(tf_train_dataset, weights_1) + biases_1)\n",
    "    layer_2 = tf.matmul(layer_1, weights_2) + biases_2\n",
    "    loss = tf.reduce_mean(tf.nn.softmax_cross_entropy_with_logits(labels = tf_train_labels, logits = layer_2)) + \\\n",
    "    beta * (tf.nn.l2_loss(weights_1) + tf.nn.l2_loss(weights_2))\n",
    "    \n",
    "    #Optimizer.\n",
    "    optimizer = tf.train.GradientDescentOptimizer(0.5).minimize(loss)\n",
    "    \n",
    "    #Predictions for the training, validation, testing data.\n",
    "    train_prediction = tf.nn.softmax(layer_2)\n",
    "    valid_prediction = tf.nn.softmax(\n",
    "        tf.matmul(tf.nn.relu(tf.matmul(tf_valid_dataset, weights_1) + biases_1), weights_2) + biases_2)\n",
    "    test_prediction = tf.nn.softmax(\n",
    "        tf.matmul(tf.nn.relu(tf.matmul(tf_test_dataset, weights_1) + biases_1), weights_2) + biases_2)"
   ]
  },
  {
   "cell_type": "code",
   "execution_count": 10,
   "metadata": {
    "scrolled": true
   },
   "outputs": [
    {
     "name": "stdout",
     "output_type": "stream",
     "text": [
      "Initialized\n",
      "Minibatch loss at step 0: 432.311523\n",
      "Minibatch accuracy: 10.2%\n",
      "Validation accuracy: 30.4%\n",
      "Minibatch loss at step 1000: 64.961746\n",
      "Minibatch accuracy: 82.8%\n",
      "Validation accuracy: 82.1%\n",
      "Minibatch loss at step 2000: 47.180592\n",
      "Minibatch accuracy: 85.9%\n",
      "Validation accuracy: 81.8%\n",
      "Minibatch loss at step 3000: 36.066849\n",
      "Minibatch accuracy: 85.2%\n",
      "Validation accuracy: 83.7%\n",
      "Minibatch loss at step 4000: 28.925669\n",
      "Minibatch accuracy: 77.3%\n",
      "Validation accuracy: 82.6%\n",
      "Minibatch loss at step 5000: 21.541218\n",
      "Minibatch accuracy: 91.4%\n",
      "Validation accuracy: 86.0%\n",
      "Minibatch loss at step 6000: 17.019030\n",
      "Minibatch accuracy: 86.7%\n",
      "Validation accuracy: 86.4%\n",
      "Minibatch loss at step 7000: 13.092662\n",
      "Minibatch accuracy: 96.1%\n",
      "Validation accuracy: 86.7%\n",
      "Minibatch loss at step 8000: 10.455079\n",
      "Minibatch accuracy: 90.6%\n",
      "Validation accuracy: 87.4%\n",
      "Test accuracy: 93.6%\n"
     ]
    }
   ],
   "source": [
    "num_steps =8001\n",
    "beta_regu = 0.00025\n",
    "\n",
    "with tf.Session(graph = graph, config = tf_config) as session:\n",
    "    tf.global_variables_initializer().run()\n",
    "    print('Initialized')\n",
    "    for step in range(num_steps):\n",
    "        #Pick an offset within training data.\n",
    "        offset = (step * batch_size) % (train_labels.shape[0] - batch_size)\n",
    "        #Generate a minibatch.\n",
    "        batch_data = train_dataset[offset:(offset + batch_size), :]\n",
    "        batch_labels = train_labels[offset:(offset + batch_size), :]\n",
    "        #Prapare feed dictionary.\n",
    "        feed_dict = {tf_train_dataset: batch_data, tf_train_labels: batch_labels, beta: beta_regu}\n",
    "        _, l, predictions = session.run([optimizer, loss, train_prediction], feed_dict = feed_dict)\n",
    "        if (step % 1000 == 0):\n",
    "            print('Minibatch loss at step %d: %f' % (step, l))\n",
    "            print('Minibatch accuracy: %.1f%%' % accuracy(predictions, batch_labels))\n",
    "            print('Validation accuracy: %.1f%%' % accuracy(valid_prediction.eval(), valid_labels))\n",
    "    print('Test accuracy: %.1f%%' % accuracy(test_prediction.eval(), test_labels))"
   ]
  },
  {
   "cell_type": "code",
   "execution_count": 11,
   "metadata": {
    "scrolled": true
   },
   "outputs": [
    {
     "name": "stdout",
     "output_type": "stream",
     "text": [
      "Initialized when beta = 0.000010\n",
      "Initialized when beta = 0.000013\n",
      "Initialized when beta = 0.000016\n",
      "Initialized when beta = 0.000020\n",
      "Initialized when beta = 0.000025\n",
      "Initialized when beta = 0.000032\n",
      "Initialized when beta = 0.000040\n",
      "Initialized when beta = 0.000050\n",
      "Initialized when beta = 0.000063\n",
      "Initialized when beta = 0.000079\n",
      "Initialized when beta = 0.000100\n",
      "Initialized when beta = 0.000126\n",
      "Initialized when beta = 0.000158\n",
      "Initialized when beta = 0.000200\n",
      "Initialized when beta = 0.000251\n",
      "Initialized when beta = 0.000316\n",
      "Initialized when beta = 0.000398\n",
      "Initialized when beta = 0.000501\n",
      "Initialized when beta = 0.000631\n",
      "Initialized when beta = 0.000794\n",
      "Initialized when beta = 0.001000\n",
      "Initialized when beta = 0.001259\n",
      "Initialized when beta = 0.001585\n",
      "Initialized when beta = 0.001995\n",
      "Initialized when beta = 0.002512\n",
      "Initialized when beta = 0.003162\n",
      "Initialized when beta = 0.003981\n",
      "Initialized when beta = 0.005012\n",
      "Initialized when beta = 0.006310\n",
      "Initialized when beta = 0.007943\n"
     ]
    }
   ],
   "source": [
    "accuracy_val = []\n",
    "for beta_regu in betas_regu:\n",
    "    with tf.Session(graph = graph, config = tf_config)  as session:\n",
    "        tf.global_variables_initializer().run()\n",
    "        print('Initialized when beta = %.6f' % beta_regu)\n",
    "        for step in range(num_steps):\n",
    "            #Pick an offset within the training data.\n",
    "            offset = (step * batch_size) % (train_labels.shape[0] - batch_size)\n",
    "            #Generate a minibatch\n",
    "            batch_data = train_dataset[offset:(offset + batch_size), :]\n",
    "            batch_labels = train_labels[offset:(offset + batch_size)]\n",
    "            #feed dictionary\n",
    "            feed_dict = {tf_train_dataset: batch_data, tf_train_labels: batch_labels, beta: beta_regu}\n",
    "            _, l, predictions = session.run([optimizer, loss, train_prediction], feed_dict = feed_dict)\n",
    "        accuracy_val.append(accuracy(test_prediction.eval(), test_labels))\n",
    "        print('Test accuracy: %.1f%%' % accuracy(test_prediction.eval(), test_labels))"
   ]
  },
  {
   "cell_type": "code",
   "execution_count": 12,
   "metadata": {},
   "outputs": [
    {
     "data": {
      "image/png": "[encoded data removed]",
      "text/plain": [
       "<matplotlib.figure.Figure at 0x7f49988ec0b8>"
      ]
     },
     "metadata": {},
     "output_type": "display_data"
    }
   ],
   "source": [
    "plt.semilogx(betas_regu, accuracy_val)\n",
    "plt.grid(True)\n",
    "plt.title('Test accuracy by regularization(logistic)')\n",
    "plt.show()"
   ]
  },
  {
   "cell_type": "markdown",
   "metadata": {},
   "source": [
    "## Problem 2"
   ]
  },
  {
   "cell_type": "markdown",
   "metadata": {},
   "source": [
    "### Overfitting"
   ]
  },
  {
   "cell_type": "code",
   "execution_count": 13,
   "metadata": {
    "scrolled": true
   },
   "outputs": [
    {
     "name": "stdout",
     "output_type": "stream",
     "text": [
      "Initialized\n",
      "Minibatch loss at step 0: 392.922546\n",
      "Minibatch accuracy: 15.6%\n",
      "Validation accuracy: 39.1%\n",
      "Minibatch loss at step 10: 80.139221\n",
      "Minibatch accuracy: 99.2%\n",
      "Validation accuracy: 64.2%\n",
      "Minibatch loss at step 20: 81.841568\n",
      "Minibatch accuracy: 99.2%\n",
      "Validation accuracy: 64.1%\n",
      "Minibatch loss at step 30: 78.050713\n",
      "Minibatch accuracy: 100.0%\n",
      "Validation accuracy: 65.9%\n",
      "Minibatch loss at step 40: 77.856049\n",
      "Minibatch accuracy: 100.0%\n",
      "Validation accuracy: 65.8%\n",
      "Minibatch loss at step 50: 77.659340\n",
      "Minibatch accuracy: 100.0%\n",
      "Validation accuracy: 65.3%\n",
      "Minibatch loss at step 60: 77.455856\n",
      "Minibatch accuracy: 100.0%\n",
      "Validation accuracy: 68.5%\n",
      "Minibatch loss at step 70: 77.260025\n",
      "Minibatch accuracy: 100.0%\n",
      "Validation accuracy: 68.6%\n",
      "Minibatch loss at step 80: 77.066818\n",
      "Minibatch accuracy: 100.0%\n",
      "Validation accuracy: 68.4%\n",
      "Minibatch loss at step 90: 76.873474\n",
      "Minibatch accuracy: 100.0%\n",
      "Validation accuracy: 69.0%\n",
      "Minibatch loss at step 100: 76.682503\n",
      "Minibatch accuracy: 100.0%\n",
      "Validation accuracy: 69.5%\n",
      "Minibatch loss at step 110: 76.490166\n",
      "Minibatch accuracy: 100.0%\n",
      "Validation accuracy: 69.8%\n",
      "Minibatch loss at step 120: 76.299232\n",
      "Minibatch accuracy: 100.0%\n",
      "Validation accuracy: 69.9%\n",
      "Minibatch loss at step 130: 76.108955\n",
      "Minibatch accuracy: 100.0%\n",
      "Validation accuracy: 71.0%\n",
      "Minibatch loss at step 140: 75.918900\n",
      "Minibatch accuracy: 100.0%\n",
      "Validation accuracy: 71.0%\n",
      "Minibatch loss at step 150: 75.729332\n",
      "Minibatch accuracy: 100.0%\n",
      "Validation accuracy: 71.0%\n",
      "Minibatch loss at step 160: 75.540237\n",
      "Minibatch accuracy: 100.0%\n",
      "Validation accuracy: 71.0%\n",
      "Minibatch loss at step 170: 75.351601\n",
      "Minibatch accuracy: 100.0%\n",
      "Validation accuracy: 71.0%\n",
      "Minibatch loss at step 180: 75.163475\n",
      "Minibatch accuracy: 100.0%\n",
      "Validation accuracy: 71.0%\n",
      "Minibatch loss at step 190: 74.975784\n",
      "Minibatch accuracy: 100.0%\n",
      "Validation accuracy: 71.0%\n",
      "Minibatch loss at step 200: 74.788536\n",
      "Minibatch accuracy: 100.0%\n",
      "Validation accuracy: 71.0%\n",
      "Test accuracy: 77.0%\n"
     ]
    }
   ],
   "source": [
    "num_steps =201\n",
    "beta_regu = 0.00025\n",
    "\n",
    "with tf.Session(graph = graph, config = tf_config) as session:\n",
    "    tf.global_variables_initializer().run()\n",
    "    print('Initialized')\n",
    "    for step in range(num_steps):\n",
    "        #Pick an offset within training data.\n",
    "        #offset = (step * batch_size) % (train_labels.shape[0] - batch_size)\n",
    "        offset = step % batch_size\n",
    "        #Generate a minibatch.\n",
    "        batch_data = train_dataset[offset:(offset + batch_size), :]\n",
    "        batch_labels = train_labels[offset:(offset + batch_size), :]\n",
    "        #Prapare feed dictionary.\n",
    "        feed_dict = {tf_train_dataset: batch_data, tf_train_labels: batch_labels, beta: beta_regu}\n",
    "        _, l, predictions = session.run([optimizer, loss, train_prediction], feed_dict = feed_dict)\n",
    "        if (step % 10 == 0):\n",
    "            print('Minibatch loss at step %d: %f' % (step, l))\n",
    "            print('Minibatch accuracy: %.1f%%' % accuracy(predictions, batch_labels))\n",
    "            print('Validation accuracy: %.1f%%' % accuracy(valid_prediction.eval(), valid_labels))\n",
    "    print('Test accuracy: %.1f%%' % accuracy(test_prediction.eval(), test_labels))"
   ]
  },
  {
   "cell_type": "markdown",
   "metadata": {},
   "source": [
    "## Problem 3"
   ]
  },
  {
   "cell_type": "markdown",
   "metadata": {},
   "source": [
    "### Dropout"
   ]
  },
  {
   "cell_type": "code",
   "execution_count": 14,
   "metadata": {
    "collapsed": true
   },
   "outputs": [],
   "source": [
    "batch_size = 128\n",
    "num_hidden_nodes = 1024\n",
    "\n",
    "graph = tf.Graph()\n",
    "with graph.as_default():\n",
    "    #Input data.\n",
    "    tf_train_dataset = tf.placeholder(tf.float32, shape = (batch_size, image_size * image_size))\n",
    "    tf_train_labels = tf.placeholder(tf.float32, shape = (batch_size, num_labels))\n",
    "    tf_valid_dataset = tf.constant(valid_dataset)\n",
    "    tf_test_dataset = tf.constant(test_dataset)\n",
    "    \n",
    "    #Variables.\n",
    "    weights_1 = tf.Variable(tf.truncated_normal([image_size * image_size, num_hidden_nodes]))\n",
    "    biases_1 = tf.Variable(tf.zeros([num_hidden_nodes]))\n",
    "    weights_2 = tf.Variable(tf.truncated_normal([num_hidden_nodes, num_labels]))\n",
    "    biases_2 = tf.Variable(tf.zeros([num_labels]))\n",
    "    \n",
    "    #Training computation.\n",
    "    layer_1 = tf.nn.relu(tf.matmul(tf_train_dataset, weights_1) + biases_1)\n",
    "    layer_2 = tf.matmul(tf.nn.dropout(layer_1, 0.5), weights_2) + biases_2\n",
    "    loss = tf.reduce_mean(tf.nn.softmax_cross_entropy_with_logits(labels = tf_train_labels, logits = layer_2))\n",
    "    \n",
    "    #Optimizer.\n",
    "    optimizer = tf.train.GradientDescentOptimizer(0.5).minimize(loss)\n",
    "    \n",
    "    #Predictions for the training, validation, testing data.\n",
    "    train_prediction = tf.nn.softmax(layer_2)\n",
    "    valid_prediction = tf.nn.softmax(\n",
    "        tf.matmul(tf.nn.relu(tf.matmul(tf_valid_dataset, weights_1) + biases_1), weights_2) + biases_2)\n",
    "    test_prediction = tf.nn.softmax(\n",
    "        tf.matmul(tf.nn.relu(tf.matmul(tf_test_dataset, weights_1) + biases_1), weights_2) + biases_2)"
   ]
  },
  {
   "cell_type": "code",
   "execution_count": 15,
   "metadata": {
    "scrolled": true
   },
   "outputs": [
    {
     "name": "stdout",
     "output_type": "stream",
     "text": [
      "Initialized\n",
      "Minibatch loss at step 0: 454.303131\n",
      "Minibatch accuracy: 12.5%\n",
      "Validation accuracy: 28.3%\n",
      "Minibatch loss at step 1000: 13.865479\n",
      "Minibatch accuracy: 68.0%\n",
      "Validation accuracy: 79.4%\n",
      "Minibatch loss at step 2000: 9.115481\n",
      "Minibatch accuracy: 75.8%\n",
      "Validation accuracy: 78.9%\n",
      "Minibatch loss at step 3000: 4.028487\n",
      "Minibatch accuracy: 76.6%\n",
      "Validation accuracy: 80.2%\n",
      "Minibatch loss at step 4000: 7.124763\n",
      "Minibatch accuracy: 60.9%\n",
      "Validation accuracy: 80.3%\n",
      "Minibatch loss at step 5000: 2.127897\n",
      "Minibatch accuracy: 75.0%\n",
      "Validation accuracy: 80.9%\n",
      "Minibatch loss at step 6000: 3.303937\n",
      "Minibatch accuracy: 75.0%\n",
      "Validation accuracy: 81.8%\n",
      "Minibatch loss at step 7000: 1.691424\n",
      "Minibatch accuracy: 78.1%\n",
      "Validation accuracy: 82.2%\n",
      "Minibatch loss at step 8000: 2.442971\n",
      "Minibatch accuracy: 78.9%\n",
      "Validation accuracy: 82.1%\n",
      "Test accuracy: 89.1%\n"
     ]
    }
   ],
   "source": [
    "num_steps =8001\n",
    "\n",
    "with tf.Session(graph = graph, config = tf_config) as session:\n",
    "    tf.global_variables_initializer().run()\n",
    "    print('Initialized')\n",
    "    for step in range(num_steps):\n",
    "        #Pick an offset within training data.\n",
    "        offset = (step * batch_size) % (train_labels.shape[0] - batch_size)\n",
    "        #Generate a minibatch.\n",
    "        batch_data = train_dataset[offset:(offset + batch_size), :]\n",
    "        batch_labels = train_labels[offset:(offset + batch_size), :]\n",
    "        #Prapare feed dictionary.\n",
    "        feed_dict = {tf_train_dataset: batch_data, tf_train_labels: batch_labels}\n",
    "        _, l, predictions = session.run([optimizer, loss, train_prediction], feed_dict = feed_dict)\n",
    "        if (step % 1000 == 0):\n",
    "            print('Minibatch loss at step %d: %f' % (step, l))\n",
    "            print('Minibatch accuracy: %.1f%%' % accuracy(predictions, batch_labels))\n",
    "            print('Validation accuracy: %.1f%%' % accuracy(valid_prediction.eval(), valid_labels))\n",
    "    print('Test accuracy: %.1f%%' % accuracy(test_prediction.eval(), test_labels))"
   ]
  },
  {
   "cell_type": "code",
   "execution_count": 17,
   "metadata": {
    "scrolled": true
   },
   "outputs": [
    {
     "name": "stdout",
     "output_type": "stream",
     "text": [
      "Initialized\n",
      "Minibatch loss at step 0: 544.890747\n",
      "Minibatch accuracy: 9.4%\n",
      "Validation accuracy: 28.4%\n",
      "Minibatch loss at step 10: 0.738104\n",
      "Minibatch accuracy: 98.4%\n",
      "Validation accuracy: 67.3%\n",
      "Minibatch loss at step 20: 4.814124\n",
      "Minibatch accuracy: 97.7%\n",
      "Validation accuracy: 70.1%\n",
      "Minibatch loss at step 30: 7.901539\n",
      "Minibatch accuracy: 93.8%\n",
      "Validation accuracy: 68.0%\n",
      "Minibatch loss at step 40: 1.159963\n",
      "Minibatch accuracy: 98.4%\n",
      "Validation accuracy: 68.9%\n",
      "Minibatch loss at step 50: 2.068134\n",
      "Minibatch accuracy: 98.4%\n",
      "Validation accuracy: 69.7%\n",
      "Minibatch loss at step 60: 2.535696\n",
      "Minibatch accuracy: 99.2%\n",
      "Validation accuracy: 69.2%\n",
      "Minibatch loss at step 70: 2.595469\n",
      "Minibatch accuracy: 96.1%\n",
      "Validation accuracy: 70.6%\n",
      "Minibatch loss at step 80: 9.512283\n",
      "Minibatch accuracy: 96.9%\n",
      "Validation accuracy: 70.5%\n",
      "Minibatch loss at step 90: 2.986710\n",
      "Minibatch accuracy: 97.7%\n",
      "Validation accuracy: 70.5%\n",
      "Minibatch loss at step 100: 3.764192\n",
      "Minibatch accuracy: 97.7%\n",
      "Validation accuracy: 71.0%\n",
      "Minibatch loss at step 110: 1.100346\n",
      "Minibatch accuracy: 99.2%\n",
      "Validation accuracy: 70.7%\n",
      "Minibatch loss at step 120: 1.807890\n",
      "Minibatch accuracy: 97.7%\n",
      "Validation accuracy: 72.4%\n",
      "Minibatch loss at step 130: 6.311675\n",
      "Minibatch accuracy: 96.9%\n",
      "Validation accuracy: 72.4%\n",
      "Minibatch loss at step 140: 5.198232\n",
      "Minibatch accuracy: 98.4%\n",
      "Validation accuracy: 72.0%\n",
      "Minibatch loss at step 150: 0.010377\n",
      "Minibatch accuracy: 99.2%\n",
      "Validation accuracy: 71.8%\n",
      "Minibatch loss at step 160: 0.000000\n",
      "Minibatch accuracy: 100.0%\n",
      "Validation accuracy: 73.0%\n",
      "Minibatch loss at step 170: 0.000000\n",
      "Minibatch accuracy: 100.0%\n",
      "Validation accuracy: 72.6%\n",
      "Minibatch loss at step 180: 0.000000\n",
      "Minibatch accuracy: 100.0%\n",
      "Validation accuracy: 73.0%\n",
      "Minibatch loss at step 190: 0.192972\n",
      "Minibatch accuracy: 99.2%\n",
      "Validation accuracy: 72.3%\n",
      "Minibatch loss at step 200: 0.000000\n",
      "Minibatch accuracy: 100.0%\n",
      "Validation accuracy: 72.6%\n",
      "Test accuracy: 78.8%\n"
     ]
    }
   ],
   "source": [
    "num_steps =201\n",
    "beta_regu = 0.00025\n",
    "\n",
    "with tf.Session(graph = graph, config = tf_config) as session:\n",
    "    tf.global_variables_initializer().run()\n",
    "    print('Initialized')\n",
    "    for step in range(num_steps):\n",
    "        #Pick an offset within training data.\n",
    "        #offset = (step * batch_size) % (train_labels.shape[0] - batch_size)\n",
    "        offset = step % batch_size\n",
    "        #Generate a minibatch.\n",
    "        batch_data = train_dataset[offset:(offset + batch_size), :]\n",
    "        batch_labels = train_labels[offset:(offset + batch_size), :]\n",
    "        #Prapare feed dictionary.\n",
    "        feed_dict = {tf_train_dataset: batch_data, tf_train_labels: batch_labels}\n",
    "        _, l, predictions = session.run([optimizer, loss, train_prediction], feed_dict = feed_dict)\n",
    "        if (step % 10 == 0):\n",
    "            print('Minibatch loss at step %d: %f' % (step, l))\n",
    "            print('Minibatch accuracy: %.1f%%' % accuracy(predictions, batch_labels))\n",
    "            print('Validation accuracy: %.1f%%' % accuracy(valid_prediction.eval(), valid_labels))\n",
    "    print('Test accuracy: %.1f%%' % accuracy(test_prediction.eval(), test_labels))"
   ]
  },
  {
   "cell_type": "markdown",
   "metadata": {},
   "source": [
    "## Problem 4"
   ]
  },
  {
   "cell_type": "markdown",
   "metadata": {},
   "source": [
    "### 2-layer network with L_2 regularization"
   ]
  },
  {
   "cell_type": "code",
   "execution_count": 18,
   "metadata": {},
   "outputs": [],
   "source": [
    "batch_size = 128\n",
    "num_hidden_nodes_1 = 1024\n",
    "num_hidden_nodes_2 = 512\n",
    "\n",
    "graph = tf.Graph()\n",
    "with graph.as_default():\n",
    "    #Input data.\n",
    "    tf_train_dataset = tf.placeholder(tf.float32, shape = (batch_size, image_size * image_size))\n",
    "    tf_train_labels = tf.placeholder(tf.float32, shape = (batch_size, num_labels))\n",
    "    tf_valid_dataset = tf.constant(valid_dataset)\n",
    "    tf_test_dataset = tf.constant(test_dataset)\n",
    "    beta = tf.placeholder(tf.float32)\n",
    "    \n",
    "    #Variables.\n",
    "    global_step = tf.Variable(0) #count the number of the steps taken.\n",
    "    weights_1 = tf.Variable(tf.truncated_normal([image_size * image_size, num_hidden_nodes_1], \n",
    "                                               stddev = np.sqrt(2.0 / (image_size * image_size))))\n",
    "    biases_1 = tf.Variable(tf.zeros([num_hidden_nodes_1]))\n",
    "    weights_2 = tf.Variable(tf.truncated_normal([num_hidden_nodes_1, num_hidden_nodes_2], \n",
    "                                               stddev = np.sqrt(2.0 / num_hidden_nodes_1)))\n",
    "    biases_2 = tf.Variable(tf.zeros([num_hidden_nodes_2]))\n",
    "    weights_3 = tf.Variable(tf.truncated_normal([num_hidden_nodes_2, num_labels], \n",
    "                                               stddev = np.sqrt(2.0 / num_hidden_nodes_2)))\n",
    "    biases_3 = tf.Variable(tf.zeros([num_labels]))\n",
    "    \n",
    "    #Training computation.\n",
    "    layer_1 = tf.nn.relu(tf.matmul(tf_train_dataset, weights_1) + biases_1)\n",
    "    layer_2 = tf.nn.relu(tf.matmul(layer_1, weights_2) + biases_2)\n",
    "    logits = tf.matmul(layer_2, weights_3) + biases_3\n",
    "    loss = tf.reduce_mean(tf.nn.softmax_cross_entropy_with_logits(labels = tf_train_labels, logits = logits)) + \\\n",
    "    beta * (tf.nn.l2_loss(weights_1) + tf.nn.l2_loss(weights_2) + tf.nn.l2_loss(weights_3))\n",
    "    \n",
    "    #Optimizer.\n",
    "    learning_rate = tf.train.exponential_decay(1.0, global_step, 10000, 0.96, staircase = True)\n",
    "    optimizer = tf.train.GradientDescentOptimizer(learning_rate).minimize(loss, global_step = global_step)\n",
    "    \n",
    "    #Predictions for the training, validation, testing data.\n",
    "    train_prediction = tf.nn.softmax(logits)\n",
    "    \n",
    "    layer_1_valid = tf.nn.relu(tf.matmul(tf_valid_dataset, weights_1) + biases_1)\n",
    "    layer_2_valid = tf.nn.relu(tf.matmul(layer_1_valid, weights_2) + biases_2)\n",
    "    logits_valid = tf.matmul(layer_2_valid, weights_3) + biases_3\n",
    "    valid_prediction = tf.nn.softmax(logits_valid)\n",
    "    \n",
    "    layer_1_test = tf.nn.relu(tf.matmul(tf_test_dataset, weights_1) + biases_1)\n",
    "    layer_2_test = tf.nn.relu(tf.matmul(layer_1_test, weights_2) + biases_2)\n",
    "    logits_test = tf.matmul(layer_2_test, weights_3) + biases_3\n",
    "    test_prediction = tf.nn.softmax(logits_test)"
   ]
  },
  {
   "cell_type": "code",
   "execution_count": 19,
   "metadata": {
    "scrolled": true
   },
   "outputs": [
    {
     "name": "stdout",
     "output_type": "stream",
     "text": [
      "Initialized\n",
      "Minibatch loss at step 0: 2.593975\n",
      "Minibatch accuracy: 19.5%\n",
      "Validation accuracy: 36.3%\n",
      "Minibatch loss at step 1000: 0.637714\n",
      "Minibatch accuracy: 87.5%\n",
      "Validation accuracy: 87.2%\n",
      "Minibatch loss at step 2000: 0.534325\n",
      "Minibatch accuracy: 88.3%\n",
      "Validation accuracy: 88.4%\n",
      "Minibatch loss at step 3000: 0.467612\n",
      "Minibatch accuracy: 91.4%\n",
      "Validation accuracy: 87.8%\n",
      "Minibatch loss at step 4000: 0.528750\n",
      "Minibatch accuracy: 87.5%\n",
      "Validation accuracy: 88.3%\n",
      "Minibatch loss at step 5000: 0.432336\n",
      "Minibatch accuracy: 89.1%\n",
      "Validation accuracy: 89.5%\n",
      "Minibatch loss at step 6000: 0.452103\n",
      "Minibatch accuracy: 89.8%\n",
      "Validation accuracy: 89.7%\n",
      "Minibatch loss at step 7000: 0.249789\n",
      "Minibatch accuracy: 96.9%\n",
      "Validation accuracy: 89.2%\n",
      "Minibatch loss at step 8000: 0.451486\n",
      "Minibatch accuracy: 88.3%\n",
      "Validation accuracy: 88.8%\n",
      "Minibatch loss at step 9000: 0.449156\n",
      "Minibatch accuracy: 89.8%\n",
      "Validation accuracy: 89.3%\n",
      "Minibatch loss at step 10000: 0.418494\n",
      "Minibatch accuracy: 91.4%\n",
      "Validation accuracy: 89.5%\n",
      "Minibatch loss at step 11000: 0.373721\n",
      "Minibatch accuracy: 93.8%\n",
      "Validation accuracy: 89.1%\n",
      "Minibatch loss at step 12000: 0.356369\n",
      "Minibatch accuracy: 93.0%\n",
      "Validation accuracy: 89.2%\n",
      "Minibatch loss at step 13000: 0.629698\n",
      "Minibatch accuracy: 85.9%\n",
      "Validation accuracy: 89.2%\n",
      "Minibatch loss at step 14000: 0.526142\n",
      "Minibatch accuracy: 88.3%\n",
      "Validation accuracy: 89.4%\n",
      "Minibatch loss at step 15000: 0.400801\n",
      "Minibatch accuracy: 91.4%\n",
      "Validation accuracy: 89.6%\n",
      "Test accuracy: 95.1%\n"
     ]
    }
   ],
   "source": [
    "num_steps = 15001\n",
    "beta_regu = 0.00025\n",
    "\n",
    "with tf.Session(graph = graph, config = tf_config) as session:\n",
    "    tf.global_variables_initializer().run()\n",
    "    print('Initialized')\n",
    "    for step in range(num_steps):\n",
    "        #Pick an offset within training data.\n",
    "        offset = (step * batch_size) % (train_labels.shape[0] - batch_size)\n",
    "        #Generate a minibatch.\n",
    "        batch_data = train_dataset[offset:(offset + batch_size), :]\n",
    "        batch_labels = train_labels[offset:(offset + batch_size), :]\n",
    "        #Prapare feed dictionary.\n",
    "        feed_dict = {tf_train_dataset: batch_data, tf_train_labels: batch_labels, beta: beta_regu}\n",
    "        _, l, predictions = session.run([optimizer, loss, train_prediction], feed_dict = feed_dict)\n",
    "        if (step % 1000 == 0):\n",
    "            print('Minibatch loss at step %d: %f' % (step, l))\n",
    "            print('Minibatch accuracy: %.1f%%' % accuracy(predictions, batch_labels))\n",
    "            print('Validation accuracy: %.1f%%' % accuracy(valid_prediction.eval(), valid_labels))\n",
    "    print('Test accuracy: %.1f%%' % accuracy(test_prediction.eval(), test_labels))"
   ]
  },
  {
   "cell_type": "code",
   "execution_count": 20,
   "metadata": {
    "scrolled": true
   },
   "outputs": [
    {
     "name": "stdout",
     "output_type": "stream",
     "text": [
      "Initialized when beta = 0.000010\n",
      "Test accuracy: 94.7%\n",
      "Initialized when beta = 0.000013\n",
      "Test accuracy: 95.0%\n",
      "Initialized when beta = 0.000016\n",
      "Test accuracy: 94.2%\n",
      "Initialized when beta = 0.000020\n",
      "Test accuracy: 95.2%\n",
      "Initialized when beta = 0.000025\n",
      "Test accuracy: 95.2%\n",
      "Initialized when beta = 0.000032\n",
      "Test accuracy: 95.1%\n",
      "Initialized when beta = 0.000040\n",
      "Test accuracy: 95.1%\n",
      "Initialized when beta = 0.000050\n",
      "Test accuracy: 94.7%\n",
      "Initialized when beta = 0.000063\n",
      "Test accuracy: 94.9%\n",
      "Initialized when beta = 0.000079\n",
      "Test accuracy: 94.9%\n",
      "Initialized when beta = 0.000100\n",
      "Test accuracy: 95.0%\n",
      "Initialized when beta = 0.000126\n",
      "Test accuracy: 94.5%\n",
      "Initialized when beta = 0.000158\n",
      "Test accuracy: 93.4%\n",
      "Initialized when beta = 0.000200\n",
      "Test accuracy: 95.3%\n",
      "Initialized when beta = 0.000251\n",
      "Test accuracy: 94.5%\n",
      "Initialized when beta = 0.000316\n",
      "Test accuracy: 94.8%\n",
      "Initialized when beta = 0.000398\n",
      "Test accuracy: 94.8%\n",
      "Initialized when beta = 0.000501\n",
      "Test accuracy: 94.5%\n",
      "Initialized when beta = 0.000631\n",
      "Test accuracy: 94.6%\n",
      "Initialized when beta = 0.000794\n",
      "Test accuracy: 94.4%\n",
      "Initialized when beta = 0.001000\n",
      "Test accuracy: 94.2%\n",
      "Initialized when beta = 0.001259\n",
      "Test accuracy: 92.6%\n",
      "Initialized when beta = 0.001585\n",
      "Test accuracy: 93.3%\n",
      "Initialized when beta = 0.001995\n",
      "Test accuracy: 93.0%\n",
      "Initialized when beta = 0.002512\n",
      "Test accuracy: 92.1%\n",
      "Initialized when beta = 0.003162\n",
      "Test accuracy: 91.0%\n",
      "Initialized when beta = 0.003981\n",
      "Test accuracy: 90.8%\n",
      "Initialized when beta = 0.005012\n",
      "Test accuracy: 89.6%\n",
      "Initialized when beta = 0.006310\n",
      "Test accuracy: 88.2%\n",
      "Initialized when beta = 0.007943\n",
      "Test accuracy: 87.9%\n"
     ]
    }
   ],
   "source": [
    "accuracy_val = []\n",
    "for beta_regu in betas_regu:\n",
    "    with tf.Session(graph = graph, config = tf_config)  as session:\n",
    "        tf.global_variables_initializer().run()\n",
    "        print('Initialized when beta = %.6f' % beta_regu)\n",
    "        for step in range(num_steps):\n",
    "            #Pick an offset within the training data.\n",
    "            offset = (step * batch_size) % (train_labels.shape[0] - batch_size)\n",
    "            #Generate a minibatch\n",
    "            batch_data = train_dataset[offset:(offset + batch_size), :]\n",
    "            batch_labels = train_labels[offset:(offset + batch_size)]\n",
    "            #feed dictionary\n",
    "            feed_dict = {tf_train_dataset: batch_data, tf_train_labels: batch_labels, beta: beta_regu}\n",
    "            _, l, predictions = session.run([optimizer, loss, train_prediction], feed_dict = feed_dict)\n",
    "        accuracy_val.append(accuracy(test_prediction.eval(), test_labels))\n",
    "        print('Test accuracy: %.1f%%' % accuracy(test_prediction.eval(), test_labels))"
   ]
  },
  {
   "cell_type": "code",
   "execution_count": 21,
   "metadata": {
    "scrolled": false
   },
   "outputs": [
    {
     "data": {
      "image/png": "[encoded data removed]",
      "text/plain": [
       "<matplotlib.figure.Figure at 0x7f48f549c8d0>"
      ]
     },
     "metadata": {},
     "output_type": "display_data"
    }
   ],
   "source": [
    "plt.semilogx(betas_regu, accuracy_val)\n",
    "plt.grid(True)\n",
    "plt.title('Test accuracy by regularization(logistic)')\n",
    "plt.show()"
   ]
  },
  {
   "cell_type": "markdown",
   "metadata": {
    "collapsed": true
   },
   "source": [
    "### 5-layer network with L_2 regularization"
   ]
  },
  {
   "cell_type": "code",
   "execution_count": 22,
   "metadata": {},
   "outputs": [],
   "source": [
    "batch_size = 512\n",
    "num_hidden_nodes_1 = 1024\n",
    "num_hidden_nodes_2 = 512\n",
    "num_hidden_nodes_3 = 256\n",
    "num_hidden_nodes_4 = 128\n",
    "num_hidden_nodes_5 = 64\n",
    "\n",
    "graph = tf.Graph()\n",
    "with graph.as_default():\n",
    "    #Input data.\n",
    "    tf_train_dataset = tf.placeholder(tf.float32, shape = (batch_size, image_size * image_size))\n",
    "    tf_train_labels = tf.placeholder(tf.float32, shape = (batch_size, num_labels))\n",
    "    tf_valid_dataset = tf.constant(valid_dataset)\n",
    "    tf_test_dataset = tf.constant(test_dataset)\n",
    "    beta = tf.placeholder(tf.float32)\n",
    "    \n",
    "    #Variables.\n",
    "    global_step = tf.Variable(0) #count the number of the steps taken.\n",
    "    weights_1 = tf.Variable(tf.truncated_normal([image_size * image_size, num_hidden_nodes_1], \n",
    "                                               stddev = np.sqrt(2.0 / (image_size * image_size))))\n",
    "    biases_1 = tf.Variable(tf.zeros([num_hidden_nodes_1]))\n",
    "    weights_2 = tf.Variable(tf.truncated_normal([num_hidden_nodes_1, num_hidden_nodes_2], \n",
    "                                               stddev = np.sqrt(2.0 / num_hidden_nodes_1)))\n",
    "    biases_2 = tf.Variable(tf.zeros([num_hidden_nodes_2]))\n",
    "    weights_3 = tf.Variable(tf.truncated_normal([num_hidden_nodes_2, num_hidden_nodes_3], \n",
    "                                               stddev = np.sqrt(2.0 / num_hidden_nodes_2)))\n",
    "    biases_3 = tf.Variable(tf.zeros([num_hidden_nodes_3]))\n",
    "    weights_4 = tf.Variable(tf.truncated_normal([num_hidden_nodes_3, num_hidden_nodes_4], \n",
    "                                               stddev = np.sqrt(2.0 / num_hidden_nodes_3)))\n",
    "    biases_4 = tf.Variable(tf.zeros([num_hidden_nodes_4]))\n",
    "    weights_5 = tf.Variable(tf.truncated_normal([num_hidden_nodes_4, num_hidden_nodes_5], \n",
    "                                               stddev = np.sqrt(2.0 / num_hidden_nodes_4)))\n",
    "    biases_5 = tf.Variable(tf.zeros([num_hidden_nodes_5]))\n",
    "    weights_6 = tf.Variable(tf.truncated_normal([num_hidden_nodes_5, num_labels], \n",
    "                                               stddev = np.sqrt(2.0 / num_hidden_nodes_5)))\n",
    "    biases_6 = tf.Variable(tf.zeros([num_labels]))\n",
    "    \n",
    "    #Training computation.\n",
    "    layer_1 = tf.nn.relu(tf.matmul(tf_train_dataset, weights_1) + biases_1)\n",
    "    layer_2 = tf.nn.relu(tf.matmul(layer_1, weights_2) + biases_2)\n",
    "    layer_3 = tf.nn.relu(tf.matmul(layer_2, weights_3) + biases_3)\n",
    "    layer_4 = tf.nn.relu(tf.matmul(layer_3, weights_4) + biases_4)\n",
    "    layer_5 = tf.nn.relu(tf.matmul(layer_4, weights_5) + biases_5)\n",
    "    logits = tf.matmul(layer_5, weights_6) + biases_6\n",
    "    loss = tf.reduce_mean(tf.nn.softmax_cross_entropy_with_logits(labels = tf_train_labels, logits = logits)) + \\\n",
    "    beta * (tf.nn.l2_loss(weights_1) + tf.nn.l2_loss(weights_2) + tf.nn.l2_loss(weights_3) + \\\n",
    "           tf.nn.l2_loss(weights_4) + tf.nn.l2_loss(weights_5) + tf.nn.l2_loss(weights_6))\n",
    "    \n",
    "    #Optimizer.\n",
    "    learning_rate = tf.train.exponential_decay(1.0, global_step, 10000, 0.96, staircase = True)\n",
    "    optimizer = tf.train.GradientDescentOptimizer(learning_rate).minimize(loss, global_step = global_step)\n",
    "    \n",
    "    #Predictions for the training, validation, testing data.\n",
    "    train_prediction = tf.nn.softmax(logits)\n",
    "    \n",
    "    layer_1_valid = tf.nn.relu(tf.matmul(tf_valid_dataset, weights_1) + biases_1)\n",
    "    layer_2_valid = tf.nn.relu(tf.matmul(layer_1_valid, weights_2) + biases_2)\n",
    "    layer_3_valid = tf.nn.relu(tf.matmul(layer_2_valid, weights_3) + biases_3)\n",
    "    layer_4_valid = tf.nn.relu(tf.matmul(layer_3_valid, weights_4) + biases_4)\n",
    "    layer_5_valid = tf.nn.relu(tf.matmul(layer_4_valid, weights_5) + biases_5)\n",
    "    logits_valid = tf.matmul(layer_5_valid, weights_6) + biases_6\n",
    "    valid_prediction = tf.nn.softmax(logits_valid)\n",
    "    \n",
    "    layer_1_test = tf.nn.relu(tf.matmul(tf_test_dataset, weights_1) + biases_1)\n",
    "    layer_2_test = tf.nn.relu(tf.matmul(layer_1_test, weights_2) + biases_2)\n",
    "    layer_3_test = tf.nn.relu(tf.matmul(layer_2_test, weights_3) + biases_3)\n",
    "    layer_4_test = tf.nn.relu(tf.matmul(layer_3_test, weights_4) + biases_4)\n",
    "    layer_5_test = tf.nn.relu(tf.matmul(layer_4_test, weights_5) + biases_5)\n",
    "    logits_test = tf.matmul(layer_5_test, weights_6) + biases_6\n",
    "    test_prediction = tf.nn.softmax(logits_test)"
   ]
  },
  {
   "cell_type": "code",
   "execution_count": 23,
   "metadata": {
    "scrolled": true
   },
   "outputs": [
    {
     "name": "stdout",
     "output_type": "stream",
     "text": [
      "Initialized\n",
      "Minibatch loss at step 0: 2.707100\n",
      "Minibatch accuracy: 10.2%\n",
      "Validation accuracy: 30.4%\n",
      "Minibatch loss at step 1000: 3.796994\n",
      "Minibatch accuracy: 9.6%\n",
      "Validation accuracy: 10.0%\n",
      "Minibatch loss at step 2000: 3.207771\n",
      "Minibatch accuracy: 10.7%\n",
      "Validation accuracy: 10.0%\n",
      "Minibatch loss at step 3000: 2.852569\n",
      "Minibatch accuracy: 8.6%\n",
      "Validation accuracy: 10.0%\n",
      "Minibatch loss at step 4000: nan\n",
      "Minibatch accuracy: 10.4%\n",
      "Validation accuracy: 10.0%\n",
      "Minibatch loss at step 5000: nan\n",
      "Minibatch accuracy: 9.8%\n",
      "Validation accuracy: 10.0%\n",
      "Minibatch loss at step 6000: nan\n",
      "Minibatch accuracy: 9.6%\n",
      "Validation accuracy: 10.0%\n",
      "Minibatch loss at step 7000: nan\n",
      "Minibatch accuracy: 11.3%\n",
      "Validation accuracy: 10.0%\n",
      "Minibatch loss at step 8000: nan\n",
      "Minibatch accuracy: 8.8%\n",
      "Validation accuracy: 10.0%\n",
      "Minibatch loss at step 9000: nan\n",
      "Minibatch accuracy: 9.6%\n",
      "Validation accuracy: 10.0%\n",
      "Minibatch loss at step 10000: nan\n",
      "Minibatch accuracy: 8.2%\n",
      "Validation accuracy: 10.0%\n",
      "Minibatch loss at step 11000: nan\n",
      "Minibatch accuracy: 10.7%\n",
      "Validation accuracy: 10.0%\n",
      "Minibatch loss at step 12000: nan\n",
      "Minibatch accuracy: 9.0%\n",
      "Validation accuracy: 10.0%\n",
      "Minibatch loss at step 13000: nan\n",
      "Minibatch accuracy: 9.4%\n",
      "Validation accuracy: 10.0%\n",
      "Minibatch loss at step 14000: nan\n",
      "Minibatch accuracy: 9.2%\n",
      "Validation accuracy: 10.0%\n",
      "Minibatch loss at step 15000: nan\n",
      "Minibatch accuracy: 10.7%\n",
      "Validation accuracy: 10.0%\n",
      "Test accuracy: 10.0%\n"
     ]
    }
   ],
   "source": [
    "num_steps = 15001\n",
    "beta_regu = 0.00025\n",
    "\n",
    "with tf.Session(graph = graph, config = tf_config) as session:\n",
    "    tf.global_variables_initializer().run()\n",
    "    print('Initialized')\n",
    "    for step in range(num_steps):\n",
    "        #Pick an offset within training data.\n",
    "        offset = (step * batch_size) % (train_labels.shape[0] - batch_size)\n",
    "        #Generate a minibatch.\n",
    "        batch_data = train_dataset[offset:(offset + batch_size), :]\n",
    "        batch_labels = train_labels[offset:(offset + batch_size), :]\n",
    "        #Prapare feed dictionary.\n",
    "        feed_dict = {tf_train_dataset: batch_data, tf_train_labels: batch_labels, beta: beta_regu}\n",
    "        _, l, predictions = session.run([optimizer, loss, train_prediction], feed_dict = feed_dict)\n",
    "        if (step % 1000 == 0):\n",
    "            print('Minibatch loss at step %d: %f' % (step, l))\n",
    "            print('Minibatch accuracy: %.1f%%' % accuracy(predictions, batch_labels))\n",
    "            print('Validation accuracy: %.1f%%' % accuracy(valid_prediction.eval(), valid_labels))\n",
    "    print('Test accuracy: %.1f%%' % accuracy(test_prediction.eval(), test_labels))"
   ]
  },
  {
   "cell_type": "code",
   "execution_count": 24,
   "metadata": {
    "scrolled": true
   },
   "outputs": [
    {
     "name": "stdout",
     "output_type": "stream",
     "text": [
      "Initialized when beta = 0.000010\n",
      "Test accuracy: 96.1%\n",
      "Initialized when beta = 0.000013\n",
      "Test accuracy: 10.0%\n",
      "Initialized when beta = 0.000016\n",
      "Test accuracy: 96.1%\n",
      "Initialized when beta = 0.000020\n",
      "Test accuracy: 10.0%\n",
      "Initialized when beta = 0.000025\n",
      "Test accuracy: 95.9%\n",
      "Initialized when beta = 0.000032\n",
      "Test accuracy: 10.0%\n",
      "Initialized when beta = 0.000040\n",
      "Test accuracy: 10.0%\n",
      "Initialized when beta = 0.000050\n",
      "Test accuracy: 10.0%\n",
      "Initialized when beta = 0.000063\n",
      "Test accuracy: 10.0%\n",
      "Initialized when beta = 0.000079\n",
      "Test accuracy: 10.0%\n",
      "Initialized when beta = 0.000100\n",
      "Test accuracy: 10.0%\n",
      "Initialized when beta = 0.000126\n",
      "Test accuracy: 10.0%\n",
      "Initialized when beta = 0.000158\n",
      "Test accuracy: 10.0%\n",
      "Initialized when beta = 0.000200\n",
      "Test accuracy: 10.0%\n",
      "Initialized when beta = 0.000251\n",
      "Test accuracy: 10.0%\n",
      "Initialized when beta = 0.000316\n",
      "Test accuracy: 10.0%\n",
      "Initialized when beta = 0.000398\n",
      "Test accuracy: 10.0%\n",
      "Initialized when beta = 0.000501\n",
      "Test accuracy: 10.0%\n",
      "Initialized when beta = 0.000631\n",
      "Test accuracy: 10.0%\n",
      "Initialized when beta = 0.000794\n",
      "Test accuracy: 10.0%\n",
      "Initialized when beta = 0.001000\n",
      "Test accuracy: 10.0%\n",
      "Initialized when beta = 0.001259\n",
      "Test accuracy: 10.0%\n",
      "Initialized when beta = 0.001585\n",
      "Test accuracy: 10.0%\n",
      "Initialized when beta = 0.001995\n",
      "Test accuracy: 10.0%\n",
      "Initialized when beta = 0.002512\n",
      "Test accuracy: 44.7%\n",
      "Initialized when beta = 0.003162\n",
      "Test accuracy: 10.0%\n",
      "Initialized when beta = 0.003981\n",
      "Test accuracy: 32.6%\n",
      "Initialized when beta = 0.005012\n",
      "Test accuracy: 27.7%\n",
      "Initialized when beta = 0.006310\n",
      "Test accuracy: 27.6%\n",
      "Initialized when beta = 0.007943\n",
      "Test accuracy: 18.2%\n"
     ]
    }
   ],
   "source": [
    "accuracy_val = []\n",
    "for beta_regu in betas_regu:\n",
    "    with tf.Session(graph = graph, config = tf_config)  as session:\n",
    "        tf.global_variables_initializer().run()\n",
    "        print('Initialized when beta = %.6f' % beta_regu)\n",
    "        for step in range(num_steps):\n",
    "            #Pick an offset within the training data.\n",
    "            offset = (step * batch_size) % (train_labels.shape[0] - batch_size)\n",
    "            #Generate a minibatch\n",
    "            batch_data = train_dataset[offset:(offset + batch_size), :]\n",
    "            batch_labels = train_labels[offset:(offset + batch_size)]\n",
    "            #feed dictionary\n",
    "            feed_dict = {tf_train_dataset: batch_data, tf_train_labels: batch_labels, beta: beta_regu}\n",
    "            _, l, predictions = session.run([optimizer, loss, train_prediction], feed_dict = feed_dict)\n",
    "        accuracy_val.append(accuracy(test_prediction.eval(), test_labels))\n",
    "        print('Test accuracy: %.1f%%' % accuracy(test_prediction.eval(), test_labels))"
   ]
  },
  {
   "cell_type": "code",
   "execution_count": 25,
   "metadata": {},
   "outputs": [
    {
     "data": {
      "image/png": "[encoded data removed]",
      "text/plain": [
       "<matplotlib.figure.Figure at 0x7f48f55e7b38>"
      ]
     },
     "metadata": {},
     "output_type": "display_data"
    }
   ],
   "source": [
    "plt.semilogx(betas_regu, accuracy_val)\n",
    "plt.grid(True)\n",
    "plt.title('Test accuracy by regularization(logistic)')\n",
    "plt.show()"
   ]
  },
  {
   "cell_type": "code",
   "execution_count": null,
   "metadata": {
    "collapsed": true
   },
   "outputs": [],
   "source": []
  }
 ],
 "metadata": {
  "kernelspec": {
   "display_name": "Python 3",
   "language": "python",
   "name": "python3"
  },
  "language_info": {
   "codemirror_mode": {
    "name": "ipython",
    "version": 3
   },
   "file_extension": ".py",
   "mimetype": "text/x-python",
   "name": "python",
   "nbconvert_exporter": "python",
   "pygments_lexer": "ipython3",
   "version": "3.5.2"
  }
 },
 "nbformat": 4,
 "nbformat_minor": 2
}
